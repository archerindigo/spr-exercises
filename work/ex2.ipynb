{
 "cells": [
  {
   "cell_type": "code",
   "execution_count": 1,
   "metadata": {
    "id": "h0FrAGlmstnq"
   },
   "outputs": [],
   "source": [
    "%matplotlib inline\n",
    "import numpy as np\n",
    "import matplotlib.pyplot as plt\n",
    "from matplotlib.patches import Ellipse"
   ]
  },
  {
   "cell_type": "markdown",
   "metadata": {
    "id": "_n1dUCDbcPR0"
   },
   "source": [
    "# $\\star$ Question 2: \n",
    "Estimate the mean and covariance matrix of the dataset *gaussian.npz* via ML\n",
    "estimation.\n",
    "\n",
    "Plot the points and indicate the mean via a cross and the covariance via an\n",
    "ellipse. \n",
    "\n",
    "Consult the matplotlib documentation to see how to draw an ellipse. \n",
    "(https://matplotlib.org/3.1.1/api/_as_gen/matplotlib.patches.Ellipse.html)\n",
    "\n",
    "\n",
    "You obtain the ellipse axes by an eigen-decomposition of the matrix (Numpy function linalg.eig). \n",
    "\n",
    "The scaling of the axes is given by the eigenvalues. Review the concept of an eigen-decomposition in the\n",
    "internet or a math book if you lack this basic math knowledge."
   ]
  },
  {
   "cell_type": "markdown",
   "metadata": {
    "id": "YPFPSH6JePII"
   },
   "source": [
    "# Question 2.1: Mean and Covariance estimation \n",
    "Estimate the mean and covariance matrix of the dataset, you can compare these to the built in numpy functions and see if you see a difference."
   ]
  },
  {
   "cell_type": "code",
   "execution_count": 28,
   "metadata": {
    "id": "mIPf04qvqz9x"
   },
   "outputs": [
    {
     "data": {
      "image/png": "[encoded data removed]",
      "text/plain": [
       "<Figure size 432x288 with 1 Axes>"
      ]
     },
     "metadata": {
      "needs_background": "light"
     },
     "output_type": "display_data"
    },
    {
     "name": "stdout",
     "output_type": "stream",
     "text": [
      "Mean is:\n",
      "[2.12308534 3.12168402]\n",
      "Covariance is:\n",
      "[[1.35117126 2.10306646]\n",
      " [2.10306646 4.02666029]]\n"
     ]
    }
   ],
   "source": [
    "data = np.load(\"../data/gaussian.npz\", \"r\")\n",
    "points = data[\"arr_0\"]\n",
    "plt.scatter(points[:,0], points[:,1])\n",
    "plt.show()\n",
    "data.close()\n",
    "\n",
    "print(\"Mean is:\")\n",
    "mean = np.mean(points, 0) # 0 = mean by column, 1 = mean by row\n",
    "print(mean)\n",
    "\n",
    "print(\"Covariance is:\")\n",
    "cov = np.cov(points, rowvar=False) # NP uses the N-1 bias correction. \n",
    "print(cov)"
   ]
  },
  {
   "cell_type": "markdown",
   "metadata": {
    "id": "0j06--zaevaY"
   },
   "source": [
    "# Question 2.2: Plotting the graph\n",
    "Plot the points and indicate the mean via a cross and the covariance via an\n",
    "ellipse"
   ]
  },
  {
   "cell_type": "code",
   "execution_count": null,
   "metadata": {
    "id": "hWvbNsOHqsOI"
   },
   "outputs": [],
   "source": []
  },
  {
   "cell_type": "markdown",
   "metadata": {
    "id": "WEGDRJXMfnAM"
   },
   "source": [
    "# $\\star\\star$ Question 3:\n",
    "Create reduced datasets by considering only the first 2, 5, 10 points and estimate the mean via MAP. \n",
    "\n",
    "Use the ML estimate of the covariance $ \\Sigma $ <sub>**ML,100**</sub> (estimated from all 100 points) as known covariance. \n",
    "\n",
    "Assume the conjugate prior with $\\mu_0 = (2,3)^T $ and covariance $\\Sigma_0 =\\Sigma $ <sub>**ML,100**</sub>\n",
    "\n",
    "\n",
    "Draw the ML and the MAP estimates into the point clouds (the covariance is the same as it is assumed to be known here). \n",
    "\n",
    "How reliable is the ML estimate when there are only few measurements? \n",
    "\n",
    "Now work with a slightly wrong prior $\\mu_0 = (2,5)^T $\n",
    "and see how the effect of the prior is reduced as more measurements come\n",
    "in."
   ]
  },
  {
   "cell_type": "markdown",
   "metadata": {
    "id": "CVwvFvWAlLcR"
   },
   "source": [
    "# Question 3.1: Using the correct prior\n",
    "Using   $\\mu_0 = (2,3)^T $\n",
    "\n"
   ]
  },
  {
   "cell_type": "code",
   "execution_count": null,
   "metadata": {
    "id": "0nmuWzc_qpww"
   },
   "outputs": [],
   "source": []
  },
  {
   "cell_type": "markdown",
   "metadata": {
    "id": "6hqDM0OAl_Ic"
   },
   "source": [
    "# Question 3.2: Using a slightly wrong prior\n",
    "Using $\\mu_0 = (2,5)^T $"
   ]
  },
  {
   "cell_type": "code",
   "execution_count": null,
   "metadata": {
    "id": "iFpRSggLqnax"
   },
   "outputs": [],
   "source": []
  },
  {
   "cell_type": "markdown",
   "metadata": {
    "id": "zvbfBkcAm0YX"
   },
   "source": [
    "# $\\star$ Question 4:\n",
    "Estimate mean and covariance of the dataset *gaussianplus.npz* using ML and show\n",
    "the result. How well does the estimate reflect the true data?"
   ]
  },
  {
   "cell_type": "code",
   "execution_count": null,
   "metadata": {
    "id": "lMmKYJLuqlYQ"
   },
   "outputs": [],
   "source": []
  }
 ],
 "metadata": {
  "colab": {
   "collapsed_sections": [],
   "name": "Copy of Exercise2_SPR.ipynb",
   "provenance": []
  },
  "kernelspec": {
   "display_name": "Python 3",
   "language": "python",
   "name": "python3"
  },
  "language_info": {
   "codemirror_mode": {
    "name": "ipython",
    "version": 3
   },
   "file_extension": ".py",
   "mimetype": "text/x-python",
   "name": "python",
   "nbconvert_exporter": "python",
   "pygments_lexer": "ipython3",
   "version": "3.7.3"
  }
 },
 "nbformat": 4,
 "nbformat_minor": 4
}
